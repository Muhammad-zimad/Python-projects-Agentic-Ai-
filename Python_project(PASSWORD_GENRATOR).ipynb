{
  "nbformat": 4,
  "nbformat_minor": 0,
  "metadata": {
    "colab": {
      "provenance": []
    },
    "kernelspec": {
      "name": "python3",
      "display_name": "Python 3"
    },
    "language_info": {
      "name": "python"
    }
  },
  "cells": [
    {
      "cell_type": "code",
      "execution_count": 5,
      "metadata": {
        "colab": {
          "base_uri": "https://localhost:8080/"
        },
        "id": "XBMaByaF5Gs1",
        "outputId": "2b547f33-6458-4605-e11a-5e19bf3d7ce1"
      },
      "outputs": [
        {
          "output_type": "stream",
          "name": "stdout",
          "text": [
            "Welcome to your Password Genrator \n",
            "Amount of password to generate: 5\n",
            "input your password length: 4\n",
            "\n",
            "here are your password\n",
            "qKmH\n",
            "vN:%\n",
            "izL@\n",
            "sXFU\n",
            "*BnR\n"
          ]
        }
      ],
      "source": [
        "import random\n",
        "\n",
        "print('Welcome to your Password Genrator ')\n",
        "\n",
        "chars = 'abcdefghijklmnopqrstuvwxyzABCDEFGHIJKLMNOPQRSTUVWXYZ!@#$%^&*().,:'\n",
        "\n",
        "number = int(input('Amount of password to generate: '))\n",
        "\n",
        "\n",
        "length = int(input('input your password length: '))\n",
        "\n",
        "\n",
        "print('\\nhere are your password')\n",
        "\n",
        "for pws in range(number):\n",
        "    password = ''\n",
        "    for c in range(length):\n",
        "        password += random.choice(chars)\n",
        "\n",
        "    print(password)"
      ]
    }
  ]
}