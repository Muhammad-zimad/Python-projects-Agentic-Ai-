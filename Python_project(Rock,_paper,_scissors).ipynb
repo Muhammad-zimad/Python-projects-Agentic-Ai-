{
  "nbformat": 4,
  "nbformat_minor": 0,
  "metadata": {
    "colab": {
      "provenance": []
    },
    "kernelspec": {
      "name": "python3",
      "display_name": "Python 3"
    },
    "language_info": {
      "name": "python"
    }
  },
  "cells": [
    {
      "cell_type": "code",
      "execution_count": 4,
      "metadata": {
        "id": "XBMaByaF5Gs1"
      },
      "outputs": [],
      "source": [
        "import random\n",
        "def play():\n",
        "  user= input(\"'r'for rock, 'p' for paper, 's' for scissors\\n\")\n",
        "  computer = random.choice(['r', 'p', 's'])\n",
        "\n",
        "  if user == computer:\n",
        "     return 'It\\'s a tie'\n",
        "\n",
        "   # r > s, s > p, p > r\n",
        "  if is_win(user, computer):\n",
        "      return 'You Won!'\n",
        "\n",
        "  return 'You lost'\n",
        "\n",
        "\n",
        "def is_win(player, opponent):\n",
        "  if (player == 'r' and opponent == 's') or (player == 's' and opponent == 'p') or (player =='p' and opponent == 'r'):\n",
        "     return True\n",
        "\n",
        "  print(play())"
      ]
    }
  ]
}