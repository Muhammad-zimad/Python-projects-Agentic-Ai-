{
  "nbformat": 4,
  "nbformat_minor": 0,
  "metadata": {
    "colab": {
      "provenance": []
    },
    "kernelspec": {
      "name": "python3",
      "display_name": "Python 3"
    },
    "language_info": {
      "name": "python"
    }
  },
  "cells": [
    {
      "cell_type": "code",
      "execution_count": null,
      "metadata": {
        "colab": {
          "base_uri": "https://localhost:8080/"
        },
        "id": "XBMaByaF5Gs1",
        "outputId": "90367e90-2370-41a7-c4d4-904fb3e47786"
      },
      "outputs": [
        {
          "output_type": "stream",
          "name": "stdout",
          "text": [
            "Timer completed!\n",
            "Enter the time in seconds120\n"
          ]
        }
      ],
      "source": [
        "import time\n",
        "\n",
        "def contdown(t):\n",
        "    while t:\n",
        "        mins, secs = divmod(t, 60)\n",
        "        timer = '{:02d}:{:02d}'.format(mins, secs)\n",
        "        print(timer, end=\"\\r\")\n",
        "        time.sleep(1)\n",
        "        t -= 1\n",
        "print(\"Timer completed!\")\n",
        "t = input(\"Enter the time in seconds\")\n",
        "contdown(int(t))"
      ]
    }
  ]
}