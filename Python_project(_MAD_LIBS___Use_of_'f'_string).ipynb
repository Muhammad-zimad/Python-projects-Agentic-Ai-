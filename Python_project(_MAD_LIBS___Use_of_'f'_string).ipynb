{
  "nbformat": 4,
  "nbformat_minor": 0,
  "metadata": {
    "colab": {
      "provenance": []
    },
    "kernelspec": {
      "name": "python3",
      "display_name": "Python 3"
    },
    "language_info": {
      "name": "python"
    }
  },
  "cells": [
    {
      "cell_type": "code",
      "execution_count": null,
      "metadata": {
        "colab": {
          "base_uri": "https://localhost:8080/"
        },
        "id": "XBMaByaF5Gs1",
        "outputId": "3058fd8d-60e4-4c66-a8bf-b09e1d108044"
      },
      "outputs": [
        {
          "output_type": "stream",
          "name": "stdout",
          "text": [
            "Subscribe to Islamic_World2k25\n",
            "Subscribe to Islamic_World2k25\n",
            "Subscribe to Islamic_World2k25\n"
          ]
        }
      ],
      "source": [
        "# some way of use f {string}\n",
        "\n",
        "youtuber = \"\" # some string variable\n",
        "\n",
        "youtuber = \"Islamic_World2k25\"\n",
        "\n",
        "print(\"Subscribe to \" + youtuber)\n",
        "print(\"Subscribe to {}\".format(youtuber))\n",
        "print(f\"Subscribe to {youtuber}\")\n",
        "\n",
        "day = input(\"days: \")\n",
        "verb1 = input(\"verb1: \")\n",
        "verb2 = input(\"verb2: \")\n",
        "verb3 = input(\"verb3: \")\n",
        "madlib = f\"Islamic_World2k25 is my Youtube channel Which i create {day} days ago , I Uploded Islamic {verb1} My {verb2}! i can earn to much money from {verb3}.\"\n",
        "\n",
        "print(madlib)"
      ]
    }
  ]
}