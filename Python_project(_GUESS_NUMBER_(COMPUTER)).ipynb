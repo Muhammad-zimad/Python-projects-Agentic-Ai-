{
  "nbformat": 4,
  "nbformat_minor": 0,
  "metadata": {
    "colab": {
      "provenance": []
    },
    "kernelspec": {
      "name": "python3",
      "display_name": "Python 3"
    },
    "language_info": {
      "name": "python"
    }
  },
  "cells": [
    {
      "cell_type": "code",
      "execution_count": null,
      "metadata": {
        "id": "XBMaByaF5Gs1"
      },
      "outputs": [],
      "source": [
        "import random\n",
        "\n",
        "def guess(x):\n",
        "    random_number = random.randint(1, x)\n",
        "    guess = 0\n",
        "    while guess != random_number:\n",
        "        guess = int(input(f'Guess a umber between 1 and {x}: '))\n",
        "        if guess < random_number:\n",
        "            print('Sorry, guess again. Too Low.')\n",
        "        elif guess > random_number:\n",
        "            print('Sorry, guess again. Too High.')\n",
        "\n",
        "    print(f'Yay, congrats. You have guessed the number {random_number} correctly!')\n",
        "guess(20)"
      ]
    }
  ]
}